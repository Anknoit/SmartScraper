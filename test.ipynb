{
 "cells": [
  {
   "cell_type": "code",
   "execution_count": 2,
   "id": "e44120e3-ea70-4d25-b660-8259d2ec79ba",
   "metadata": {},
   "outputs": [],
   "source": [
    "# using virtualenv with notebook\n",
    "# In Terminal\n",
    "# cd SmartScraper/\n",
    "#  2002  ls\n",
    "#  2003  source venv_notebook/bin/activate\n",
    "#  2005  pip install ipython\n",
    "#  2007  pip install ipykernel\n",
    "#  2008  ipython kernel install --user --name={name of virtualenv}\n",
    "# Change the kernel to name of virtual env you provided"
   ]
  },
  {
   "cell_type": "code",
   "execution_count": 4,
   "id": "7e82bc08-4198-433e-a2c0-425cb809b46e",
   "metadata": {},
   "outputs": [],
   "source": [
    "import json\n",
    "import logging\n",
    "import time\n",
    "from pathlib import Path\n",
    "from docling.document_converter import DocumentConverter"
   ]
  },
  {
   "cell_type": "code",
   "execution_count": null,
   "id": "cdee50e4-49df-4425-b8ae-228635f7a6b9",
   "metadata": {},
   "outputs": [],
   "source": []
  }
 ],
 "metadata": {
  "kernelspec": {
   "display_name": "venv_notebook",
   "language": "python",
   "name": "venv_notebook"
  },
  "language_info": {
   "codemirror_mode": {
    "name": "ipython",
    "version": 3
   },
   "file_extension": ".py",
   "mimetype": "text/x-python",
   "name": "python",
   "nbconvert_exporter": "python",
   "pygments_lexer": "ipython3",
   "version": "3.10.12"
  }
 },
 "nbformat": 4,
 "nbformat_minor": 5
}
